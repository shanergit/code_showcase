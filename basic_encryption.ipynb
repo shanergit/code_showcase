{
 "cells": [
  {
   "cell_type": "markdown",
   "id": "6d6a94f8",
   "metadata": {},
   "source": [
    "### Basic Encryption"
   ]
  },
  {
   "cell_type": "code",
   "execution_count": 2,
   "id": "31a0a7f4",
   "metadata": {},
   "outputs": [
    {
     "name": "stdout",
     "output_type": "stream",
     "text": [
      "Create password: Secure97!2%58\n",
      "Xjhzwj><&7*:=\n"
     ]
    }
   ],
   "source": [
    "text = input(\"Create password: \")\n",
    "key = 5\n",
    "\n",
    "def encrypt_text(text,key):\n",
    "  enc_text = \"\"\n",
    "  for letter in text:\n",
    "    ascii = ord(letter)\n",
    "    ascii += key\n",
    "    enc_text += chr(ascii)\n",
    "  return enc_text\n",
    "\n",
    "print(encrypt_text(text,key))"
   ]
  },
  {
   "cell_type": "code",
   "execution_count": null,
   "id": "73e40aa8",
   "metadata": {},
   "outputs": [],
   "source": []
  }
 ],
 "metadata": {
  "kernelspec": {
   "display_name": "Python 3 (ipykernel)",
   "language": "python",
   "name": "python3"
  },
  "language_info": {
   "codemirror_mode": {
    "name": "ipython",
    "version": 3
   },
   "file_extension": ".py",
   "mimetype": "text/x-python",
   "name": "python",
   "nbconvert_exporter": "python",
   "pygments_lexer": "ipython3",
   "version": "3.9.7"
  }
 },
 "nbformat": 4,
 "nbformat_minor": 5
}
