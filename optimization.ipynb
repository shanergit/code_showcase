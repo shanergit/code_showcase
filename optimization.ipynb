{
 "cells": [
  {
   "cell_type": "markdown",
   "id": "f4176732",
   "metadata": {},
   "source": [
    "### Optimization"
   ]
  },
  {
   "cell_type": "code",
   "execution_count": 1,
   "id": "2f92efbb",
   "metadata": {},
   "outputs": [
    {
     "name": "stdout",
     "output_type": "stream",
     "text": [
      "108.0\n",
      "32.0\n",
      "4692.0\n"
     ]
    }
   ],
   "source": [
    "from pulp import LpVariable, LpProblem, LpMaximize, LpStatus, value, LpMinimize\n",
    "\n",
    "# declare your variables\n",
    "x = LpVariable(\"x\", 0, None) # x>=0\n",
    "y = LpVariable(\"y\", 0, None) # y>=0\n",
    "\n",
    "# define the problem\n",
    "prob = LpProblem(\"problem\", LpMinimize)\n",
    "\n",
    "# define the contraints\n",
    "prob += x + y >= 140\n",
    "prob += x >= 45\n",
    "prob += y >= 32\n",
    "prob += 20*x + 13*y >= 1500\n",
    "\n",
    "# define the objective function to minimize\n",
    "prob += 31*x +42*y\n",
    "\n",
    "# solve the problem\n",
    "status = prob.solve()\n",
    "LpStatus[status]\n",
    "\n",
    "# print the results\n",
    "print(value(x))\n",
    "print(value(y))\n",
    "print(31*value(x) + 42*value(y))"
   ]
  },
  {
   "cell_type": "code",
   "execution_count": null,
   "id": "7174cae2",
   "metadata": {},
   "outputs": [],
   "source": []
  }
 ],
 "metadata": {
  "kernelspec": {
   "display_name": "Python 3 (ipykernel)",
   "language": "python",
   "name": "python3"
  },
  "language_info": {
   "codemirror_mode": {
    "name": "ipython",
    "version": 3
   },
   "file_extension": ".py",
   "mimetype": "text/x-python",
   "name": "python",
   "nbconvert_exporter": "python",
   "pygments_lexer": "ipython3",
   "version": "3.9.7"
  }
 },
 "nbformat": 4,
 "nbformat_minor": 5
}
